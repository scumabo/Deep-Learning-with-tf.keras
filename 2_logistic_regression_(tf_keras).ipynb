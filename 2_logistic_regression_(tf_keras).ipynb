{
  "nbformat": 4,
  "nbformat_minor": 0,
  "metadata": {
    "colab": {
      "name": "2. logistic_regression (tf.keras).ipynb",
      "version": "0.3.2",
      "provenance": [],
      "include_colab_link": true
    },
    "kernelspec": {
      "name": "python3",
      "display_name": "Python 3"
    }
  },
  "cells": [
    {
      "cell_type": "markdown",
      "metadata": {
        "id": "view-in-github",
        "colab_type": "text"
      },
      "source": [
        "[View in Colaboratory](https://colab.research.google.com/github/scumabo/Deep-Learning-with-tf.keras/blob/master/2_logistic_regression_(tf_keras).ipynb)"
      ]
    },
    {
      "metadata": {
        "id": "LwBL-HXdw8P-",
        "colab_type": "code",
        "colab": {}
      },
      "cell_type": "code",
      "source": [
        "import tensorflow as tf\n",
        "import io\n",
        "import numpy as np\n",
        "import pandas as pd\n",
        "import matplotlib.pyplot as plt\n",
        "import io\n",
        "from sklearn.linear_model import LinearRegression\n",
        "%matplotlib inline"
      ],
      "execution_count": 0,
      "outputs": []
    },
    {
      "metadata": {
        "id": "G3dnJyypxL42",
        "colab_type": "code",
        "colab": {
          "base_uri": "https://localhost:8080/",
          "height": 84
        },
        "outputId": "5a0b8c84-1d52-490c-8a31-64abc9b5aefa"
      },
      "cell_type": "code",
      "source": [
        "data = pd.read_csv('california_housing_train.csv', header=0).values\n",
        "X = data[:, 0:-1]\n",
        "Y = data[:, [-1]]\n",
        "\n",
        "# Standardize the data\n",
        "X = (X - np.mean(X)) / np.std(X)\n",
        "\n",
        "Y_logi = np.zeros((Y.shape))\n",
        "Y_logi[Y > 265000] = 1 # Define high-cost block\n",
        "\n",
        "X_train = X[0:12000, :]\n",
        "X_test  = X[12000:, :]\n",
        "\n",
        "Y_train = Y_logi[0:12000, :]\n",
        "Y_test  = Y_logi[12000:, :]\n",
        "\n",
        "print(X_train.shape)\n",
        "print(X_test.shape)\n",
        "print(Y_train.shape)\n",
        "print(Y_test.shape)"
      ],
      "execution_count": 2,
      "outputs": [
        {
          "output_type": "stream",
          "text": [
            "(12000, 8)\n",
            "(5000, 8)\n",
            "(12000, 1)\n",
            "(5000, 1)\n"
          ],
          "name": "stdout"
        }
      ]
    },
    {
      "metadata": {
        "id": "IUfhltG3xbVj",
        "colab_type": "code",
        "colab": {}
      },
      "cell_type": "code",
      "source": [
        "np.random.seed(seed=1)\n",
        "model = tf.keras.Sequential()\n",
        "layer = tf.keras.layers.Dense(1, activation = \"sigmoid\")\n",
        "model.add(layer)\n",
        "\n",
        "model.compile(optimizer = 'SGD',\n",
        "              loss = 'binary_crossentropy',\n",
        "              metrics=['binary_accuracy'])\n",
        "\n",
        "history = model.fit(X_train, Y_train, epochs = 100, verbose = 0)"
      ],
      "execution_count": 0,
      "outputs": []
    },
    {
      "metadata": {
        "id": "0UjpA2s3yTZB",
        "colab_type": "code",
        "colab": {
          "base_uri": "https://localhost:8080/",
          "height": 279
        },
        "outputId": "380a7da0-7191-441b-f206-6b08eb902921"
      },
      "cell_type": "code",
      "source": [
        "# summarize history for loss\n",
        "plt.plot(history.history['loss'])\n",
        "plt.ylabel('MSE')\n",
        "plt.xlabel('epoch')\n",
        "plt.show()"
      ],
      "execution_count": 4,
      "outputs": [
        {
          "output_type": "display_data",
          "data": {
            "image/png": "[encoded data removed]",
            "text/plain": [
              "<matplotlib.figure.Figure at 0x7f868d4a3b38>"
            ]
          },
          "metadata": {
            "tags": []
          }
        }
      ]
    },
    {
      "metadata": {
        "id": "crTjDT-QzGOT",
        "colab_type": "code",
        "colab": {
          "base_uri": "https://localhost:8080/",
          "height": 50
        },
        "outputId": "e8d372ed-540f-443b-8bea-e7d41506f555"
      },
      "cell_type": "code",
      "source": [
        "model.evaluate(X_test, Y_test)"
      ],
      "execution_count": 5,
      "outputs": [
        {
          "output_type": "stream",
          "text": [
            "5000/5000 [==============================] - 0s 19us/step\n"
          ],
          "name": "stdout"
        },
        {
          "output_type": "execute_result",
          "data": {
            "text/plain": [
              "[0.6115562579154968, 0.6704]"
            ]
          },
          "metadata": {
            "tags": []
          },
          "execution_count": 5
        }
      ]
    }
  ]
}