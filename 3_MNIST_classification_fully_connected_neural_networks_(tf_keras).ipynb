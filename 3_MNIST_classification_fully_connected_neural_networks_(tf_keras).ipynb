{
  "nbformat": 4,
  "nbformat_minor": 0,
  "metadata": {
    "colab": {
      "name": "3. MNIST classification fully connected neural networks (tf.keras).ipynb",
      "version": "0.3.2",
      "provenance": [],
      "collapsed_sections": [],
      "include_colab_link": true
    },
    "kernelspec": {
      "name": "python3",
      "display_name": "Python 3"
    },
    "accelerator": "GPU"
  },
  "cells": [
    {
      "cell_type": "markdown",
      "metadata": {
        "id": "view-in-github",
        "colab_type": "text"
      },
      "source": [
        "[View in Colaboratory](https://colab.research.google.com/github/scumabo/Deep-Learning-with-tf.keras/blob/master/3_MNIST_classification_fully_connected_neural_networks_(tf_keras).ipynb)"
      ]
    },
    {
      "metadata": {
        "id": "aNAb4KwP5VvW",
        "colab_type": "code",
        "colab": {}
      },
      "cell_type": "code",
      "source": [
        "import tensorflow as tf\n",
        "import numpy as np\n",
        "import pandas as pd\n",
        "import matplotlib.pyplot as plt\n",
        "from sklearn.model_selection import train_test_split\n",
        "%matplotlib inline"
      ],
      "execution_count": 0,
      "outputs": []
    },
    {
      "metadata": {
        "id": "_hO5jard9yV2",
        "colab_type": "code",
        "colab": {
          "base_uri": "https://localhost:8080/",
          "height": 67
        },
        "outputId": "ac7bc7a5-ecb2-46c4-c989-8ab425042152"
      },
      "cell_type": "code",
      "source": [
        "data = pd.read_csv(\"MNIST_train.csv\").values\n",
        "\n",
        "X_data = data[:, 1:]\n",
        "Y_data = data[:, [0]]\n",
        "\n",
        "# Simple normalization\n",
        "X_data = X_data / 255\n",
        "\n",
        "X_train, X_test, Y_train, Y_test = train_test_split(X_data, Y_data, random_state = 0)\n",
        "\n",
        "print(\"Number of training examples = \" + str(X_train.shape[0]) )\n",
        "print(\"Number of testing examples = \" + str(X_test.shape[0]) )\n",
        "print(\"Number of features = \" +  str(X_train.shape[1]) )"
      ],
      "execution_count": 6,
      "outputs": [
        {
          "output_type": "stream",
          "text": [
            "Number of training examples = 31500\n",
            "Number of testing examples = 10500\n",
            "Number of features = 784\n"
          ],
          "name": "stdout"
        }
      ]
    },
    {
      "metadata": {
        "id": "N0yKt0dk92Sk",
        "colab_type": "code",
        "colab": {
          "base_uri": "https://localhost:8080/",
          "height": 297
        },
        "outputId": "06eb0c94-7e70-41e2-a818-b7964fa8d15c"
      },
      "cell_type": "code",
      "source": [
        "index = 20\n",
        "sampleImg = np.reshape(X_train[index, :], [28, 28])\n",
        "\n",
        "ax = plt.imshow(sampleImg)\n",
        "plt.title(\"label is \" + str(Y_train[index, :]))"
      ],
      "execution_count": 7,
      "outputs": [
        {
          "output_type": "execute_result",
          "data": {
            "text/plain": [
              "Text(0.5,1,'label is [5]')"
            ]
          },
          "metadata": {
            "tags": []
          },
          "execution_count": 7
        },
        {
          "output_type": "display_data",
          "data": {
            "image/png": "[encoded data removed]",
            "text/plain": [
              "<matplotlib.figure.Figure at 0x7fe4fc8b40b8>"
            ]
          },
          "metadata": {
            "tags": []
          }
        }
      ]
    },
    {
      "metadata": {
        "id": "S98sGk-h-MVT",
        "colab_type": "code",
        "colab": {
          "base_uri": "https://localhost:8080/",
          "height": 1959
        },
        "outputId": "c98e5836-2ffa-4d42-c494-bb110cfbcb5d"
      },
      "cell_type": "code",
      "source": [
        "tf.set_random_seed(1)\n",
        "model = tf.keras.Sequential([\n",
        "    tf.keras.layers.Dense(50, activation = \"relu\"),\n",
        "    tf.keras.layers.Dense(40, activation = \"relu\"),\n",
        "    tf.keras.layers.Dense(30, activation = \"relu\"),\n",
        "    tf.keras.layers.Dense(10, activation = \"softmax\")\n",
        "])\n",
        "\n",
        "model.compile(optimizer = \"adam\",\n",
        "              loss = \"sparse_categorical_crossentropy\",\n",
        "              metrics = [\"accuracy\"])\n",
        "\n",
        "History = model.fit(X_train, Y_train, epochs = 50)\n",
        "\n",
        "plt.plot(History.history[\"loss\"])\n",
        "plt.xlabel(\"epoch\")\n",
        "plt.ylabel(\"loss\")\n",
        "plt.show()"
      ],
      "execution_count": 8,
      "outputs": [
        {
          "output_type": "stream",
          "text": [
            "Epoch 1/50\n",
            "31500/31500 [==============================] - 6s 199us/step - loss: 0.4214 - acc: 0.8727\n",
            "Epoch 2/50\n",
            "31500/31500 [==============================] - 6s 191us/step - loss: 0.1727 - acc: 0.9499\n",
            "Epoch 3/50\n",
            "31500/31500 [==============================] - 6s 190us/step - loss: 0.1287 - acc: 0.9617\n",
            "Epoch 4/50\n",
            "31500/31500 [==============================] - 6s 190us/step - loss: 0.1028 - acc: 0.9687\n",
            "Epoch 5/50\n",
            "31500/31500 [==============================] - 6s 192us/step - loss: 0.0855 - acc: 0.9736\n",
            "Epoch 6/50\n",
            "31500/31500 [==============================] - 6s 192us/step - loss: 0.0736 - acc: 0.9768\n",
            "Epoch 7/50\n",
            "31500/31500 [==============================] - 6s 191us/step - loss: 0.0592 - acc: 0.9816\n",
            "Epoch 8/50\n",
            "31500/31500 [==============================] - 6s 191us/step - loss: 0.0544 - acc: 0.9817\n",
            "Epoch 9/50\n",
            "31500/31500 [==============================] - 6s 190us/step - loss: 0.0460 - acc: 0.9853\n",
            "Epoch 10/50\n",
            "31500/31500 [==============================] - 6s 191us/step - loss: 0.0406 - acc: 0.9869\n",
            "Epoch 11/50\n",
            "31500/31500 [==============================] - 6s 191us/step - loss: 0.0388 - acc: 0.9875\n",
            "Epoch 12/50\n",
            "31500/31500 [==============================] - 6s 191us/step - loss: 0.0314 - acc: 0.9895\n",
            "Epoch 13/50\n",
            "31500/31500 [==============================] - 6s 189us/step - loss: 0.0322 - acc: 0.9896\n",
            "Epoch 14/50\n",
            "31500/31500 [==============================] - 6s 190us/step - loss: 0.0251 - acc: 0.9921\n",
            "Epoch 15/50\n",
            "31500/31500 [==============================] - 6s 191us/step - loss: 0.0245 - acc: 0.9920\n",
            "Epoch 16/50\n",
            "31500/31500 [==============================] - 6s 190us/step - loss: 0.0224 - acc: 0.9933\n",
            "Epoch 17/50\n",
            "31500/31500 [==============================] - 6s 191us/step - loss: 0.0207 - acc: 0.9932\n",
            "Epoch 18/50\n",
            "31500/31500 [==============================] - 6s 192us/step - loss: 0.0207 - acc: 0.9930\n",
            "Epoch 19/50\n",
            "31500/31500 [==============================] - 6s 190us/step - loss: 0.0187 - acc: 0.9940\n",
            "Epoch 20/50\n",
            "31500/31500 [==============================] - 6s 189us/step - loss: 0.0194 - acc: 0.9936\n",
            "Epoch 21/50\n",
            "31500/31500 [==============================] - 6s 190us/step - loss: 0.0165 - acc: 0.9946\n",
            "Epoch 22/50\n",
            "31500/31500 [==============================] - 6s 191us/step - loss: 0.0196 - acc: 0.9935\n",
            "Epoch 23/50\n",
            "31500/31500 [==============================] - 6s 191us/step - loss: 0.0143 - acc: 0.9953\n",
            "Epoch 24/50\n",
            "31500/31500 [==============================] - 6s 190us/step - loss: 0.0168 - acc: 0.9943\n",
            "Epoch 25/50\n",
            "31500/31500 [==============================] - 6s 191us/step - loss: 0.0140 - acc: 0.9963\n",
            "Epoch 26/50\n",
            "31500/31500 [==============================] - 6s 192us/step - loss: 0.0171 - acc: 0.9944\n",
            "Epoch 27/50\n",
            "31500/31500 [==============================] - 6s 191us/step - loss: 0.0114 - acc: 0.9964\n",
            "Epoch 28/50\n",
            "31500/31500 [==============================] - 6s 191us/step - loss: 0.0152 - acc: 0.9955\n",
            "Epoch 29/50\n",
            "31500/31500 [==============================] - 6s 191us/step - loss: 0.0143 - acc: 0.9958\n",
            "Epoch 30/50\n",
            "31500/31500 [==============================] - 6s 187us/step - loss: 0.0124 - acc: 0.9960\n",
            "Epoch 31/50\n",
            "31500/31500 [==============================] - 6s 189us/step - loss: 0.0145 - acc: 0.9951\n",
            "Epoch 32/50\n",
            "31500/31500 [==============================] - 6s 191us/step - loss: 0.0125 - acc: 0.9964\n",
            "Epoch 33/50\n",
            "31500/31500 [==============================] - 6s 191us/step - loss: 0.0144 - acc: 0.9954\n",
            "Epoch 34/50\n",
            "31500/31500 [==============================] - 6s 191us/step - loss: 0.0076 - acc: 0.9976\n",
            "Epoch 35/50\n",
            "31500/31500 [==============================] - 6s 191us/step - loss: 0.0140 - acc: 0.9957\n",
            "Epoch 36/50\n",
            "31500/31500 [==============================] - 6s 193us/step - loss: 0.0121 - acc: 0.9964\n",
            "Epoch 37/50\n",
            "31500/31500 [==============================] - 6s 191us/step - loss: 0.0101 - acc: 0.9968\n",
            "Epoch 38/50\n",
            "31500/31500 [==============================] - 6s 190us/step - loss: 0.0105 - acc: 0.9970\n",
            "Epoch 39/50\n",
            "31500/31500 [==============================] - 6s 190us/step - loss: 0.0118 - acc: 0.9964\n",
            "Epoch 40/50\n",
            "31500/31500 [==============================] - 6s 188us/step - loss: 0.0094 - acc: 0.9971\n",
            "Epoch 41/50\n",
            "31500/31500 [==============================] - 6s 189us/step - loss: 0.0111 - acc: 0.9969\n",
            "Epoch 42/50\n",
            "31500/31500 [==============================] - 6s 189us/step - loss: 0.0111 - acc: 0.9965\n",
            "Epoch 43/50\n",
            "31500/31500 [==============================] - 6s 190us/step - loss: 0.0141 - acc: 0.9958\n",
            "Epoch 44/50\n",
            "31500/31500 [==============================] - 6s 188us/step - loss: 0.0066 - acc: 0.9983\n",
            "Epoch 45/50\n",
            "31500/31500 [==============================] - 6s 190us/step - loss: 0.0108 - acc: 0.9973\n",
            "Epoch 46/50\n",
            "31500/31500 [==============================] - 6s 189us/step - loss: 0.0138 - acc: 0.9958\n",
            "Epoch 47/50\n",
            "31500/31500 [==============================] - 6s 191us/step - loss: 0.0053 - acc: 0.9982\n",
            "Epoch 48/50\n",
            "31500/31500 [==============================] - 6s 190us/step - loss: 0.0147 - acc: 0.9956\n",
            "Epoch 49/50\n",
            "31500/31500 [==============================] - 6s 191us/step - loss: 0.0052 - acc: 0.9986\n",
            "Epoch 50/50\n",
            "31500/31500 [==============================] - 6s 190us/step - loss: 0.0083 - acc: 0.9971\n"
          ],
          "name": "stdout"
        },
        {
          "output_type": "display_data",
          "data": {
            "image/png": "[encoded data removed]",
            "text/plain": [
              "<matplotlib.figure.Figure at 0x7fe4fc883b38>"
            ]
          },
          "metadata": {
            "tags": []
          }
        }
      ]
    },
    {
      "metadata": {
        "id": "DHKr_elcFboH",
        "colab_type": "code",
        "colab": {
          "base_uri": "https://localhost:8080/",
          "height": 50
        },
        "outputId": "472a0a5f-b301-4197-ee0a-535368abd899"
      },
      "cell_type": "code",
      "source": [
        "model.evaluate(X_test, Y_test)"
      ],
      "execution_count": 10,
      "outputs": [
        {
          "output_type": "stream",
          "text": [
            "10500/10500 [==============================] - 1s 53us/step\n"
          ],
          "name": "stdout"
        },
        {
          "output_type": "execute_result",
          "data": {
            "text/plain": [
              "[0.25461205054514296, 0.9656190476190476]"
            ]
          },
          "metadata": {
            "tags": []
          },
          "execution_count": 10
        }
      ]
    },
    {
      "metadata": {
        "id": "azSJJUnZFkId",
        "colab_type": "text"
      },
      "cell_type": "markdown",
      "source": [
        "The test accuracy is 96 $\\%$ and the training accuracy is 99.71 $\\%$. Let's add dropout regularizers."
      ]
    }
  ]
}